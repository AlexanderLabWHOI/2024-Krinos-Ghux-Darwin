{
 "cells": [
  {
   "cell_type": "code",
   "execution_count": 1,
   "metadata": {},
   "outputs": [],
   "source": [
    "pacman::p_load(data.table,ggplot2,ggalt,ggthemes,lubridate,dplyr,RColorBrewer,patchwork)"
   ]
  },
  {
   "cell_type": "code",
   "execution_count": 2,
   "metadata": {},
   "outputs": [
    {
     "name": "stderr",
     "output_type": "stream",
     "text": [
      "Warning message:\n",
      "“\u001b[1m\u001b[22mDuplicated\n",
      "aesthetics after\n",
      "name\n",
      "standardisation:\n",
      "\u001b[32mfill\u001b[39m”\n",
      "Warning message:\n",
      "“\u001b[1m\u001b[22mUsing `size`\n",
      "aesthetic for lines\n",
      "was deprecated in\n",
      "ggplot2 3.4.0.\n",
      "\u001b[36mℹ\u001b[39m Please use\n",
      "  `linewidth`\n",
      "  instead.”\n",
      "Warning message in geom_map(data = wrld, map = wrld, aes(x = long, y = lat, map_id = region), :\n",
      "“\u001b[1m\u001b[22mIgnoring unknown\n",
      "aesthetics: \u001b[32mx\u001b[39m and \u001b[32my\u001b[39m”\n"
     ]
    }
   ],
   "source": [
    "wrld <- map_data(\"world\")\n",
    "\n",
    "gg <- ggplot()\n",
    "gg <- gg + geom_map(data=wrld, map=wrld,\n",
    "                    aes(x=long, y=lat, map_id=region),\n",
    "                    color=\"#2b2b2b\", fill=\"#2b2b2b\",size=0.15, fill=NA)\n",
    "gg <- gg + coord_proj(\"+proj=robin +lon_0=0 +x_0=0 +y_0=0 +ellps=WGS84 +datum=WGS84 +units=m +no_defs\")\n",
    "gg <- gg + theme_map()"
   ]
  },
  {
   "cell_type": "code",
   "execution_count": 3,
   "metadata": {},
   "outputs": [],
   "source": [
    "morewidthsdir_temp=\"/proj/omics/alexander/akrinos/2023-Krinos-Ghux-Darwin/data/Darwin_Simulations/ModWidths_ConRangeTo0C_MoreWidths\"\n",
    "\n",
    "morewidthsdir=\"/proj/omics/alexander/akrinos/2023-Krinos-Ghux-Darwin/data/Darwin_Simulations/ModWidths_ConRangeTo0C_FixedHet\"\n",
    "\n",
    "temps_ModWidths_ConRange_MoreWidths=data.frame(fread(file.path(morewidthsdir_temp,\n",
    "                                    \"tave.ScenarioB_no_low_opt.revise.concatenated_temp_phys_tave_monthly_all_biomass.csv\")))\n",
    "\n",
    "temps_ModWidths_ConRange_MoreWidths=temps_ModWidths_ConRange_MoreWidths %>%\n",
    "    dplyr::mutate(DateTime = strptime(Time, format='%Y-%b-%d %H:%M:%S'))"
   ]
  },
  {
   "cell_type": "code",
   "execution_count": 4,
   "metadata": {},
   "outputs": [],
   "source": [
    "all_all_depths_ModWidths_ConRange_MoreWidths=data.frame(fread(file.path(morewidthsdir,\n",
    "                                                         \"ScenarioB_depths_2Oct2023_temp_tave_monthly_all_biomass.csv\")))"
   ]
  },
  {
   "cell_type": "code",
   "execution_count": 5,
   "metadata": {},
   "outputs": [],
   "source": [
    "all_all_depths_ModWidths_ConRange_MoreWidths = all_all_depths_ModWidths_ConRange_MoreWidths %>%\n",
    "    dplyr::mutate(DateTime = strptime(Time, format='%Y-%b-%d %H:%M:%S'))"
   ]
  },
  {
   "cell_type": "code",
   "execution_count": null,
   "metadata": {},
   "outputs": [],
   "source": []
  }
 ],
 "metadata": {
  "kernelspec": {
   "display_name": "R 4.1",
   "language": "R",
   "name": "ir41"
  },
  "language_info": {
   "codemirror_mode": "r",
   "file_extension": ".r",
   "mimetype": "text/x-r-source",
   "name": "R",
   "pygments_lexer": "r",
   "version": "4.1.0"
  }
 },
 "nbformat": 4,
 "nbformat_minor": 2
}
